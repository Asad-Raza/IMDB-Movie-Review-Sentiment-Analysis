{
  "cells": [
    {
      "metadata": {
        "id": "OlvqDedErrB3",
        "colab_type": "code",
        "outputId": "ddc93db5-1c71-4cdf-e1f8-05b347f119f6",
        "colab": {
          "base_uri": "https://localhost:8080/",
          "height": 34
        },
        "trusted": true,
        "_uuid": "b248bef60e318025fd0f2ed63c1bc29ee9f3c53e"
      },
      "cell_type": "code",
      "source": "# Ignore  the warnings\nimport warnings\nwarnings.filterwarnings('always')\nwarnings.filterwarnings('ignore')\n\n# data visualisation and manipulation\nimport numpy as np\nimport pandas as pd\nimport matplotlib.pyplot as plt\nfrom matplotlib import style\nimport seaborn as sns\n#configure\n# sets matplotlib to inline and displays graphs below the corressponding cell.\n% matplotlib inline  \nstyle.use('fivethirtyeight')\nsns.set(style='whitegrid',color_codes=True)\n\n#import nltk\nimport nltk\nfrom nltk.corpus import stopwords\nfrom nltk.tokenize import word_tokenize\n\n# BeautifulSoup libraray\nfrom bs4 import BeautifulSoup \n\nimport re # regex\n\n#keras\nimport keras\nfrom keras.preprocessing.text import one_hot,Tokenizer\nfrom keras.preprocessing.sequence import pad_sequences\nfrom keras.models import Sequential\nfrom keras.layers import Dense , Flatten ,Embedding,Input,Dropout,LSTM\nfrom keras.layers import  CuDNNLSTM \nfrom keras.models import Model\nfrom keras.utils import to_categorical\n\n#model selection\nfrom sklearn.model_selection import train_test_split",
      "execution_count": null,
      "outputs": []
    },
    {
      "metadata": {
        "trusted": true,
        "_uuid": "ec106244d0e86a3d7d2f1f28e552f3149499ea33"
      },
      "cell_type": "code",
      "source": "import os \nprint(os.listdir(r'../input/'))",
      "execution_count": null,
      "outputs": []
    },
    {
      "metadata": {
        "id": "o324pHUrrrCV",
        "colab_type": "code",
        "colab": {},
        "trusted": true,
        "_uuid": "d350dc988c01a8b2d4641c7c0d61db0f2d7f1755"
      },
      "cell_type": "code",
      "source": "train = pd.read_csv(r\"../input/labeledTrainData.tsv\", header=0, delimiter=\"\\t\", quoting=3)\n\ntest = pd.read_csv(r\"../input/testData.tsv\", header=0, delimiter=\"\\t\", quoting=3)",
      "execution_count": null,
      "outputs": []
    },
    {
      "metadata": {
        "id": "mEySs7HurrCd",
        "colab_type": "code",
        "outputId": "9ac7e85a-4dd7-4fa0-c45b-e3ea3150f67d",
        "colab": {
          "base_uri": "https://localhost:8080/",
          "height": 51
        },
        "trusted": true,
        "_uuid": "90a7cc481bd4f4c1810ef332ab483cab9c407f7d"
      },
      "cell_type": "code",
      "source": "print(\"the train shape is : \",train.shape)\nprint(\"the test shape is : \",test.shape)",
      "execution_count": null,
      "outputs": []
    },
    {
      "metadata": {
        "id": "G8r54Qq9rrCn",
        "colab_type": "code",
        "colab": {},
        "trusted": true,
        "_uuid": "ed5b93d0b4b64ffe618a6833eb64c98d638f02b8"
      },
      "cell_type": "code",
      "source": "df=train.copy()",
      "execution_count": null,
      "outputs": []
    },
    {
      "metadata": {
        "id": "Opl7I8rRrrCv",
        "colab_type": "code",
        "outputId": "4526baf9-3f64-4ce7-941f-3245af0f6ae5",
        "colab": {
          "base_uri": "https://localhost:8080/",
          "height": 204
        },
        "trusted": true,
        "_uuid": "6927401a768282f93544ee2e53b2e698d38fa99c"
      },
      "cell_type": "code",
      "source": "df.head()",
      "execution_count": null,
      "outputs": []
    },
    {
      "metadata": {
        "id": "xruZudmorrC7",
        "colab_type": "code",
        "colab": {},
        "trusted": true,
        "_uuid": "546b6e15b662ed08e6dcb8e55665f02098405392"
      },
      "cell_type": "code",
      "source": "df.drop('id',axis=1,inplace=True)",
      "execution_count": null,
      "outputs": []
    },
    {
      "metadata": {
        "id": "sMhzXcgMrrDD",
        "colab_type": "code",
        "outputId": "0af32c47-c897-4cf7-d212-888bd55954cf",
        "colab": {
          "base_uri": "https://localhost:8080/",
          "height": 204
        },
        "trusted": true,
        "_uuid": "b16c6e15b49646587cc50d9d758603955262bc3d"
      },
      "cell_type": "code",
      "source": "df.head()",
      "execution_count": null,
      "outputs": []
    },
    {
      "metadata": {
        "id": "oFu-NfBIpu9b",
        "colab_type": "code",
        "outputId": "871ccef8-bb8a-42ee-81f6-ab2fa8acca21",
        "colab": {
          "base_uri": "https://localhost:8080/",
          "height": 68
        },
        "trusted": true,
        "_uuid": "a897ffc2f5c59fb9ab952fe6b8481da37afcf47f"
      },
      "cell_type": "code",
      "source": "df['sentiment'].value_counts()",
      "execution_count": null,
      "outputs": []
    },
    {
      "metadata": {
        "id": "0gFBNU8HrrDN",
        "colab_type": "code",
        "outputId": "f19a0172-1a92-4004-d9f3-fdef57dc889a",
        "colab": {
          "base_uri": "https://localhost:8080/",
          "height": 54
        },
        "trusted": true,
        "_uuid": "9f5e91f610b41dd93758e5bb6e2ecb4dccf8a1ba"
      },
      "cell_type": "code",
      "source": "df['review'][0]",
      "execution_count": null,
      "outputs": []
    },
    {
      "metadata": {
        "id": "5JtWaF2HrrDV",
        "colab_type": "code",
        "outputId": "c3484770-3213-43e3-c479-b85794918895",
        "colab": {
          "base_uri": "https://localhost:8080/",
          "height": 204
        },
        "trusted": true,
        "_uuid": "f80782d9b29642ac1df5d3115e969d485db23861"
      },
      "cell_type": "code",
      "source": "test.head()",
      "execution_count": null,
      "outputs": []
    },
    {
      "metadata": {
        "id": "lUCFD1UmrrDc",
        "colab_type": "code",
        "outputId": "73037955-fb34-4f51-f318-e6b6af9922fc",
        "colab": {
          "base_uri": "https://localhost:8080/",
          "height": 54
        },
        "trusted": true,
        "_uuid": "480118773dd3c86ecb9850e48bea8780f05a156a"
      },
      "cell_type": "code",
      "source": "test['review'][0]",
      "execution_count": null,
      "outputs": []
    },
    {
      "metadata": {
        "id": "EOjf_QaPrrDo",
        "colab_type": "code",
        "outputId": "5337bc6a-39ab-40af-a55c-312f08407b78",
        "colab": {
          "base_uri": "https://localhost:8080/",
          "height": 204
        },
        "trusted": true,
        "_uuid": "8268e6f8aeec8264f42df896961c36f94588a9ae"
      },
      "cell_type": "code",
      "source": "test.head()",
      "execution_count": null,
      "outputs": []
    },
    {
      "metadata": {
        "id": "31r4kzrKrrDv",
        "colab_type": "code",
        "colab": {},
        "trusted": true,
        "_uuid": "648f9b62f40181f61f50ea3aca1fa0a899812d6b"
      },
      "cell_type": "code",
      "source": "# pre-processing starts",
      "execution_count": null,
      "outputs": []
    },
    {
      "metadata": {
        "id": "GJ6XpiJrrrD1",
        "colab_type": "code",
        "colab": {},
        "trusted": true,
        "_uuid": "c39749f058775a595fed1d9d0677d7a9e2f891a1"
      },
      "cell_type": "code",
      "source": "def clean_reviews(review):\n    \n    # 1. Removing html tags\n    review_text = BeautifulSoup(review).get_text()\n    \n    # 2. Retaining only alphabets.\n    review_text = re.sub(\"[^a-zA-Z]\",\" \",review_text)\n    \n    # 3. Converting to lower case and splitting\n    word_tokens= review_text.lower().split()\n    \n    # 4. Remove stopwords\n    stop_words= set(stopwords.words(\"english\"))     \n    word_tokens= [w for w in word_tokens if not w in stop_words]\n    \n    cleaned_review=\" \".join(word_tokens)\n    return cleaned_review",
      "execution_count": null,
      "outputs": []
    },
    {
      "metadata": {
        "id": "YlgW-xblrrD8",
        "colab_type": "code",
        "colab": {},
        "trusted": true,
        "_uuid": "f8f426314ebc6723175adffb1f6c7768ee8bad73"
      },
      "cell_type": "code",
      "source": "df['review']=df['review'].apply(clean_reviews)\ntest['review']=test['review'].apply(clean_reviews)",
      "execution_count": null,
      "outputs": []
    },
    {
      "metadata": {
        "id": "uJwpw_rErrEA",
        "colab_type": "code",
        "outputId": "cfbb0981-07ff-4606-863c-eb16822c7270",
        "colab": {
          "base_uri": "https://localhost:8080/",
          "height": 51
        },
        "trusted": true,
        "_uuid": "aa8674a2cf5f0930a75204a80e1264b960925160"
      },
      "cell_type": "code",
      "source": "print(\"the train shape is : \",df.shape)\nprint(\"the test shape is : \",test.shape)",
      "execution_count": null,
      "outputs": []
    },
    {
      "metadata": {
        "id": "fL1RiqNbrrEG",
        "colab_type": "code",
        "outputId": "636697d9-c522-4b12-9c91-067f66b139c0",
        "colab": {
          "base_uri": "https://localhost:8080/",
          "height": 54
        },
        "trusted": true,
        "_uuid": "ca55edc1eaf2f79b4c3f76018a992ee9593e4253"
      },
      "cell_type": "code",
      "source": "df['review'][0]",
      "execution_count": null,
      "outputs": []
    },
    {
      "metadata": {
        "id": "zClBrcMdrrEO",
        "colab_type": "code",
        "outputId": "bfdb8703-6968-4d55-9913-d207b85b92b0",
        "colab": {
          "base_uri": "https://localhost:8080/",
          "height": 54
        },
        "trusted": true,
        "_uuid": "76397402ab6452fcfd8bffa900a625b639ff2758"
      },
      "cell_type": "code",
      "source": "test['review'][0]",
      "execution_count": null,
      "outputs": []
    },
    {
      "metadata": {
        "id": "6QaioiSzrrEX",
        "colab_type": "code",
        "colab": {},
        "trusted": true,
        "_uuid": "b5d04772afeb425ffdf997ab60921e21e9aedbdd"
      },
      "cell_type": "code",
      "source": "",
      "execution_count": null,
      "outputs": []
    },
    {
      "metadata": {
        "id": "_DOWyQQOrrEa",
        "colab_type": "code",
        "colab": {},
        "trusted": true,
        "_uuid": "13857ff41ddda5dc24cdc92e71be45adecb5a0a0"
      },
      "cell_type": "code",
      "source": "# encoding starts",
      "execution_count": null,
      "outputs": []
    },
    {
      "metadata": {
        "id": "Aq0kB9kxxeA_",
        "colab_type": "code",
        "outputId": "ab20b454-64ec-403a-ed65-2df5cd71af3a",
        "colab": {
          "base_uri": "https://localhost:8080/",
          "height": 34
        },
        "trusted": true,
        "_uuid": "82897ac52a0c74a9b39c0f39311cff78ceb9d3d7"
      },
      "cell_type": "code",
      "source": "'''\n\nneed to find no of unique words.\n\n'''\nmaster=[]\nfor e in df['review']:\n  master.append(e)\n\nwords=[]\nfor review in master:\n  tok=review.split()\n  for r in tok:\n    words.append(r)\n    \nmaster=[]\nfor e in test['review']:\n  master.append(e)\n  \nfor review in master:\n  tok=review.split()\n  for r in tok:\n    words.append(r)\n    \nprint(len(set(words)))\n  \nvocab_size=len(set(words))\n",
      "execution_count": null,
      "outputs": []
    },
    {
      "metadata": {
        "id": "iTssM3CRrrEd",
        "colab_type": "code",
        "outputId": "15ed55f3-43ad-440e-b4e4-d20b758fd528",
        "colab": {
          "base_uri": "https://localhost:8080/",
          "height": 34
        },
        "trusted": true,
        "_uuid": "f17410f42c30517216fd953be3c467fe70c16944"
      },
      "cell_type": "code",
      "source": "tokenizer=Tokenizer(num_words=vocab_size)\na=tokenizer.fit_on_texts(list(df['review']))\nencoded_train=tokenizer.texts_to_sequences(list(df['review']))\n\ntokenizer=Tokenizer(num_words=vocab_size)\na=tokenizer.fit_on_texts(list(test['review']))\nencoded_test=tokenizer.texts_to_sequences(list(test['review']))\n\nprint()\n",
      "execution_count": null,
      "outputs": []
    },
    {
      "metadata": {
        "id": "E91jlIJxwxa_",
        "colab_type": "code",
        "outputId": "148fb63d-6e48-4da7-98c0-1c84a43376c1",
        "colab": {
          "base_uri": "https://localhost:8080/",
          "height": 34
        },
        "trusted": true,
        "_uuid": "67c38c1ba0fd763dd6929267d2ef16dc049acbe6"
      },
      "cell_type": "code",
      "source": "'''\n\nneed to find the maximum no of words in any document. \n\nwe will pad the shorter documents with zeros. \n\nall the document should be of same length. this will be required by the Embedding layer in keras.\n\n'''\n\nmaxi=-1\nfor str in df['review']:\n  tokens=nltk.word_tokenize(str)\n  if(maxi<len((tokens))):\n    maxi=len(tokens)\n    \nfor str in test['review']:\n  tokenss=nltk.word_tokenize(str)\n  if(maxi<len((tokens))):\n    maxi=len(tokens)\n    \nprint(maxi)",
      "execution_count": null,
      "outputs": []
    },
    {
      "metadata": {
        "id": "PysdUx3097W4",
        "colab_type": "code",
        "outputId": "3c132837-12a9-4a2c-a952-942d2bafcd78",
        "colab": {
          "base_uri": "https://localhost:8080/",
          "height": 34
        },
        "trusted": true,
        "_uuid": "187363c00bb61d41891c76f3509372863d401aa9"
      },
      "cell_type": "code",
      "source": "# therefore we need to encode each document to consisting of 1416 words\nmax_doc_len=maxi\npad_encoded_train=pad_sequences(encoded_train,max_doc_len)\npad_encoded_test=pad_sequences(encoded_test,max_doc_len)\n\nY=df['sentiment'].values\nY=to_categorical(Y,2)\n\nprint(pad_encoded_train.shape)",
      "execution_count": null,
      "outputs": []
    },
    {
      "metadata": {
        "id": "uPlLdsABAVe8",
        "colab_type": "code",
        "colab": {},
        "trusted": true,
        "_uuid": "d2b61d153c852e63178757f5788d5ca8c119d1a9"
      },
      "cell_type": "code",
      "source": "# ready for creating embeddings.",
      "execution_count": null,
      "outputs": []
    },
    {
      "metadata": {
        "id": "2dBZXcL1JbXR",
        "colab_type": "code",
        "colab": {},
        "trusted": true,
        "_uuid": "c7f9566c53999882f5ce1803c2a16774fe567fb4"
      },
      "cell_type": "code",
      "source": "vocab_size=vocab_size\nembed_size=300\nmax_doc_len=maxi",
      "execution_count": 142,
      "outputs": []
    },
    {
      "metadata": {
        "id": "wKUPPo_hGp1J",
        "colab_type": "code",
        "colab": {},
        "trusted": true,
        "_uuid": "97e87f7c24da107ad32cebb078d15f3bf5a6dc29"
      },
      "cell_type": "code",
      "source": "from keras.layers import Bidirectional, GlobalMaxPool1D\nmodel=Sequential()\nmodel.add(Embedding(input_dim=vocab_size,output_dim=embed_size,input_length=max_doc_len))\nmodel.add(CuDNNLSTM(32, return_sequences =False))\nmodel.add(Dropout(0.40))\nmodel.add(Dense(16, activation=\"relu\"))\nmodel.add(Dropout(0.40))\nmodel.add(Dense(2, activation=\"softmax\"))",
      "execution_count": 143,
      "outputs": []
    },
    {
      "metadata": {
        "id": "t3pWbnYPGqBy",
        "colab_type": "code",
        "colab": {},
        "trusted": true,
        "_uuid": "9f7ded8560184ae178abdcea9c6e6e6042c00d9a"
      },
      "cell_type": "code",
      "source": "# compiling the model. parameters can be tuned as always.\nmodel.compile(optimizer=keras.optimizers.Adam(lr=1e-3),loss='binary_crossentropy',metrics=['acc'])",
      "execution_count": 144,
      "outputs": []
    },
    {
      "metadata": {
        "id": "mISkH_MMGqOg",
        "colab_type": "code",
        "outputId": "fd398115-3844-407c-a0b3-7ce4bfb64489",
        "colab": {
          "base_uri": "https://localhost:8080/",
          "height": 272
        },
        "trusted": true,
        "_uuid": "84ba1f0172fe187bafa392fc5090aefad3a6c9b6"
      },
      "cell_type": "code",
      "source": "model.summary() # summary of the model.",
      "execution_count": 145,
      "outputs": [
        {
          "output_type": "stream",
          "text": "_________________________________________________________________\nLayer (type)                 Output Shape              Param #   \n=================================================================\nembedding_21 (Embedding)     (None, 1416, 300)         30373500  \n_________________________________________________________________\ncu_dnnlstm_16 (CuDNNLSTM)    (None, 32)                42752     \n_________________________________________________________________\ndropout_11 (Dropout)         (None, 32)                0         \n_________________________________________________________________\ndense_35 (Dense)             (None, 16)                528       \n_________________________________________________________________\ndropout_12 (Dropout)         (None, 16)                0         \n_________________________________________________________________\ndense_36 (Dense)             (None, 2)                 34        \n=================================================================\nTotal params: 30,416,814\nTrainable params: 30,416,814\nNon-trainable params: 0\n_________________________________________________________________\n",
          "name": "stdout"
        }
      ]
    },
    {
      "metadata": {
        "id": "FflnL0O0F8im",
        "colab_type": "code",
        "outputId": "ae3271a4-02f6-4f06-b489-3883ebc7b7ba",
        "colab": {
          "base_uri": "https://localhost:8080/",
          "height": 34
        },
        "trusted": true,
        "_uuid": "b3c0a14d5ec30d6b979f8eaf2cd7d2e1679f8726",
        "scrolled": true
      },
      "cell_type": "code",
      "source": "batch_size=128\nepochs=5\nx_train,x_test,y_train,y_test=train_test_split(pad_encoded_train,Y,test_size=0.20,random_state=42)\ny_test.shape",
      "execution_count": 146,
      "outputs": [
        {
          "output_type": "execute_result",
          "execution_count": 146,
          "data": {
            "text/plain": "(5000, 2)"
          },
          "metadata": {}
        }
      ]
    },
    {
      "metadata": {
        "id": "aLaVeEG2OfKr",
        "colab_type": "code",
        "outputId": "f7ee12c8-42f2-4020-fe7e-54fe330ad76c",
        "colab": {
          "base_uri": "https://localhost:8080/",
          "height": 829
        },
        "trusted": true,
        "_uuid": "e57635ea85254e0c0dd0923d754e0e85d50f454d",
        "scrolled": false
      },
      "cell_type": "code",
      "source": "model.fit(x_train,y_train,batch_size=batch_size,epochs=epochs,validation_data=(x_test,y_test))",
      "execution_count": null,
      "outputs": []
    },
    {
      "metadata": {
        "id": "SOrdLo9el-ZF",
        "colab_type": "code",
        "colab": {},
        "trusted": true,
        "_uuid": "f1c80c6c577770308c1ce8e0c9c5617340f416d1"
      },
      "cell_type": "code",
      "source": "pred=embed_model.predict(pad_encoded_test)\npred=np.argmax(pred,axis=1)\nd={'id':test['id'],'sentiment':pred}\nanswer=pd.DataFrame(d)\nanswer.to_csv('answer.csv',index=False)",
      "execution_count": null,
      "outputs": []
    },
    {
      "metadata": {
        "id": "o6dSwn8nnA4I",
        "colab_type": "code",
        "colab": {},
        "trusted": true,
        "_uuid": "73d4837b79ee7f7db6af34bcf1848bd476d5cd46"
      },
      "cell_type": "code",
      "source": "y_train",
      "execution_count": null,
      "outputs": []
    },
    {
      "metadata": {
        "id": "t3xCGnAADUbn",
        "colab_type": "code",
        "colab": {},
        "trusted": true,
        "_uuid": "953996383bbfe002367e47ae9246c2829a9c0bb7"
      },
      "cell_type": "code",
      "source": "y_test",
      "execution_count": null,
      "outputs": []
    },
    {
      "metadata": {
        "id": "Ei-q0u5TDaOO",
        "colab_type": "code",
        "colab": {},
        "trusted": true,
        "_uuid": "1da4795737b79b48f6fcd52e1b41d32882b8aa62"
      },
      "cell_type": "code",
      "source": "pred",
      "execution_count": null,
      "outputs": []
    },
    {
      "metadata": {
        "id": "e80SNyLrDjHe",
        "colab_type": "code",
        "colab": {},
        "trusted": true,
        "_uuid": "1cbefe36931c911c5fc49b51ebc8681050c50b06"
      },
      "cell_type": "code",
      "source": "arr=[0,0]\nfor i in pred:\n   arr[i]=arr[i]+1\nprint(arr)",
      "execution_count": null,
      "outputs": []
    },
    {
      "metadata": {
        "id": "CKVB0_IBEIvX",
        "colab_type": "code",
        "colab": {},
        "trusted": true,
        "_uuid": "fdbed10e849998e0e1fda2d60b9c36226820fc59"
      },
      "cell_type": "code",
      "source": "arr=[0,0]\nfor ty in y_test:\n  if ty[0]==1:\n    arr[0]=arr[0]+1\n  else:\n    arr[1]=arr[1]+1\nprint(arr)",
      "execution_count": null,
      "outputs": []
    },
    {
      "metadata": {
        "id": "Fcwa7dEkFQ0k",
        "colab_type": "code",
        "colab": {},
        "trusted": true,
        "_uuid": "7bafbf8bef30f8a4965b131e816ba0dc932bebc6"
      },
      "cell_type": "code",
      "source": "",
      "execution_count": null,
      "outputs": []
    },
    {
      "metadata": {
        "trusted": true,
        "_uuid": "19bf3948520f35c8b40eed4232adc0c01ea2502e"
      },
      "cell_type": "code",
      "source": "",
      "execution_count": null,
      "outputs": []
    },
    {
      "metadata": {
        "trusted": true,
        "_uuid": "14b7baa71ccb2b39aa09e691d687f50f7511a31d"
      },
      "cell_type": "code",
      "source": "",
      "execution_count": null,
      "outputs": []
    }
  ],
  "metadata": {
    "colab": {
      "name": "LSTM Keras.ipynb",
      "version": "0.3.2",
      "provenance": [],
      "collapsed_sections": []
    },
    "kernelspec": {
      "display_name": "Python 3",
      "language": "python",
      "name": "python3"
    },
    "accelerator": "GPU",
    "language_info": {
      "name": "python",
      "version": "3.6.6",
      "mimetype": "text/x-python",
      "codemirror_mode": {
        "name": "ipython",
        "version": 3
      },
      "pygments_lexer": "ipython3",
      "nbconvert_exporter": "python",
      "file_extension": ".py"
    }
  },
  "nbformat": 4,
  "nbformat_minor": 1
}